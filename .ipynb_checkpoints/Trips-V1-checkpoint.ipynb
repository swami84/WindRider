{
 "cells": [
  {
   "cell_type": "code",
   "execution_count": 5,
   "metadata": {},
   "outputs": [],
   "source": [
    "import pandas as pd\n",
    "import numpy as np\n",
    "import math\n",
    "import matplotlib.pyplot as plt\n",
    "import datetime\n",
    "from sklearn.linear_model import LinearRegression\n",
    "import seaborn as sns\n",
    "from time import process_time\n",
    "import dask.dataframe as dd\n",
    "try:\n",
    "    from uszipcode import SearchEngine\n",
    "except:\n",
    "    !pip install uszipcode\n",
    "import json\n",
    "import folium\n",
    "from folium.plugins import HeatMapWithTime\n",
    "\n",
    "from sklearn.model_selection import train_test_split\n",
    "from sklearn.ensemble import RandomForestRegressor\n",
    "from sklearn.metrics import mean_squared_error\n",
    "import os.path\n",
    "from os import path\n",
    "\n",
    "\n",
    "import warnings\n",
    "warnings.filterwarnings('ignore')"
   ]
  },
  {
   "cell_type": "code",
   "execution_count": 14,
   "metadata": {},
   "outputs": [],
   "source": [
    "def parse_timestamp(df):\n",
    "    \n",
    "    df['Start Time'] = pd.to_datetime(df['Trip Start Timestamp'])\n",
    "    df['End Time'] = pd.to_datetime(df['Trip End Timestamp']) \n",
    "    df['Year'] = df['Start Time'].dt.year\n",
    "    df['PU_Hour'] = df['Start Time'].dt.hour\n",
    "    df['DO_Hour'] = df['End Time'].dt.hour\n",
    "    \n",
    "    # Remove all rows with > 2 hr trip time and 0s\n",
    "    df = df.loc[df['Trip Seconds']<7200]\n",
    "    df = df.loc[df['Trip Seconds']!=0]\n",
    "    \n",
    "    df['Month'] = df['Start Time'].dt.strftime('%B')\n",
    "    df['Day'] = df['Start Time'].dt.strftime('%A')\n",
    "    df['Trip_Time'] = df['Trip Seconds']/60\n",
    "    df = df.reset_index(drop=True)\n",
    "    return df\n",
    "\n",
    "def filter_df(df):\n",
    "    df = df.loc[df['Trip Total']!=0]\n",
    "    df = df.loc[df['Trip Miles']!=0]\n",
    "    remove = df.loc[(df['Trip Miles']<0.25) & (df['Trip Total'] >5)]\n",
    "    df = (df.drop(remove.index))\n",
    "    df = df.reset_index(drop=True)\n",
    "    return df\n",
    "\n",
    "def add_CT_freq(df):\n",
    "    df1 = df['Pickup Census Tract'].value_counts().reset_index(name='Pickup_CT_Freq').rename(columns={'index': 'Pickup Census Tract'})\n",
    "    df2 = df['Dropoff Census Tract'].value_counts().reset_index(name='Dropoff_CT_Freq').rename(columns={'index': 'Dropoff Census Tract'})\n",
    "\n",
    "    df = pd.merge(df,df1,on=['Pickup Census Tract'], how='left' )\n",
    "    df = pd.merge(df,df2,on=['Dropoff Census Tract'], how='left' )\n",
    "    return df"
   ]
  },
  {
   "cell_type": "code",
   "execution_count": 15,
   "metadata": {},
   "outputs": [],
   "source": [
    "def haversine_np(lon1, lat1, lon2, lat2):\n",
    "    lon1, lat1, lon2, lat2 = map(np.radians, [lon1, lat1, lon2, lat2])\n",
    "\n",
    "    dlon = lon2 - lon1\n",
    "    dlat = lat2 - lat1\n",
    "\n",
    "    a = np.sin(dlat/2.0)**2 + np.cos(lat1) * np.cos(lat2) * np.sin(dlon/2.0)**2\n",
    "\n",
    "    c = 2 * np.arcsin(np.sqrt(a))\n",
    "    distance = 3958.8 * c\n",
    "    return distance"
   ]
  },
  {
   "cell_type": "code",
   "execution_count": 16,
   "metadata": {},
   "outputs": [],
   "source": [
    "\n",
    "# Complete dataset has been stored on my hard drive. \n",
    "# Dataset can be accessed from https://data.cityofchicago.org/Transportation/Transportation-Network-Providers-Trips/m6dm-c72p\n",
    "\n",
    "\n",
    "def chunk_preprocessing(chunk):\n",
    "    \n",
    "    chunk=chunk.drop(columns = ['Trip ID', 'Pickup Centroid Location', 'Dropoff Centroid Location' ])\n",
    "    chunk = parse_timestamp(chunk)\n",
    "\n",
    "    chunk = chunk.rename(columns={\"Pickup Centroid Latitude\": \"PU_lat\", \"Pickup Centroid Longitude\": \"PU_long\",\n",
    "                             \"Dropoff Centroid Latitude\": \"DO_lat\", \"Dropoff Centroid Longitude\": \"DO_long\"})\n",
    "    \n",
    "    chunk = filter_df(chunk)\n",
    "    chunk = chunk.drop(columns = ['Tip', 'Fare', 'Additional Charges', 'Trip Seconds', \n",
    "                                        'Start Time', 'End Time','Trip Start Timestamp','Trip End Timestamp'])\n",
    "    \n",
    "    chunk = chunk.dropna(subset = ['Trip Miles', 'Trip Total','PU_lat', 'DO_lat',\n",
    "                                         'Pickup Census Tract','Dropoff Census Tract' ,\n",
    "                                         'Pickup Community Area','Dropoff Community Area'])\n",
    "    \n",
    "    # Calculate distance from City Center (Downtown)\n",
    "    chunk['PU_Dist_CC'] = haversine_np(41.8781, -87.6298,chunk['PU_lat'],chunk['PU_long'])\n",
    "    chunk['DO_Dist_CC'] = haversine_np(41.8781, -87.6298,chunk['DO_lat'],chunk['DO_long'])\n",
    "    chunk['Pickup Census Tract'] = chunk['Pickup Census Tract'].astype(float)\n",
    "    chunk['Dropoff Census Tract'] = chunk['Dropoff Census Tract'].astype(float)\n",
    "    \n",
    "    # Add pickup and dropoff census tract frequency\n",
    "    chunk = chunk.reset_index(drop=True)\n",
    "    return chunk"
   ]
  },
  {
   "cell_type": "code",
   "execution_count": 17,
   "metadata": {},
   "outputs": [
    {
     "name": "stdout",
     "output_type": "stream",
     "text": [
      "Processed chunk # 0 of 100 Time taken =  63 seconds\n",
      "Processed chunk # 10 of 100 Time taken =  784 seconds\n",
      "Processed chunk # 20 of 100 Time taken =  1603 seconds\n",
      "Processed chunk # 30 of 100 Time taken =  2567 seconds\n",
      "Processed chunk # 40 of 100 Time taken =  3638 seconds\n",
      "Processed chunk # 50 of 100 Time taken =  4789 seconds\n",
      "Processed chunk # 60 of 100 Time taken =  6051 seconds\n",
      "Processed chunk # 70 of 100 Time taken =  7427 seconds\n",
      "Processed chunk # 80 of 100 Time taken =  8913 seconds\n",
      "Processed chunk # 90 of 100 Time taken =  10503 seconds\n",
      "Processed chunk # 100 of 100 Time taken =  12140 seconds\n"
     ]
    },
    {
     "data": {
      "text/plain": [
       "March        1757769\n",
       "May          1600219\n",
       "November     1532804\n",
       "August       1521295\n",
       "April        1520967\n",
       "February     1509063\n",
       "December     1504954\n",
       "June         1495256\n",
       "July         1470235\n",
       "January      1468379\n",
       "September    1429114\n",
       "Name: Month, dtype: int64"
      ]
     },
     "execution_count": 17,
     "metadata": {},
     "output_type": "execute_result"
    }
   ],
   "source": [
    "chunk_size, skip_size = 250000 , 1000000\n",
    "trips = pd.DataFrame() \n",
    "tic = process_time()\n",
    "for n in range(101):\n",
    "    \n",
    "    dpath ='c:/Machine Learning/Pickled Data/'\n",
    "    os.makedirs(dpath, exist_ok=True) \n",
    "    fname = 'c:/Machine Learning/Pickled Data/trips_part_'+ str(n)+ '.pkl'\n",
    "    if os.path.exists(fname):\n",
    "        chunk_filter = pd.read_pickle(fname)\n",
    "    else:\n",
    "        chunk = pd.read_csv('c:/Machine Learning/TNP_Trips.csv',skiprows=np.arange(1, (n+1)*skip_size),\n",
    "                            nrows=chunk_size, low_memory=False) \n",
    "\n",
    "        chunk_filter = chunk_preprocessing(chunk)\n",
    "\n",
    "    trips = trips.append(chunk_filter,sort = False,ignore_index=True)\n",
    "    chunk_filter.to_pickle(fname)\n",
    "    if n%10==0:\n",
    "        toc = process_time()\n",
    "        \n",
    "        print(\"Processed chunk #\",n, 'of',100, 'Time taken = ', int(toc-tic), 'seconds' )\n",
    "\n",
    "trips.to_pickle(\"./Pickled Data/trips_25percent.pkl\")\n",
    "trips = trips.reset_index(drop=True)\n",
    "\n",
    "trips['Month'].value_counts()"
   ]
  },
  {
   "cell_type": "code",
   "execution_count": 18,
   "metadata": {},
   "outputs": [
    {
     "name": "stdout",
     "output_type": "stream",
     "text": [
      "<class 'pandas.core.frame.DataFrame'>\n",
      "RangeIndex: 16810055 entries, 0 to 16810054\n",
      "Data columns (total 20 columns):\n",
      "Trip Miles                float64\n",
      "Pickup Census Tract       float64\n",
      "Dropoff Census Tract      float64\n",
      "Pickup Community Area     float64\n",
      "Dropoff Community Area    float64\n",
      "Trip Total                float64\n",
      "Shared Trip Authorized    object\n",
      "Trips Pooled              object\n",
      "PU_lat                    float64\n",
      "PU_long                   float64\n",
      "DO_lat                    float64\n",
      "DO_long                   float64\n",
      "Year                      int64\n",
      "PU_Hour                   int64\n",
      "DO_Hour                   int64\n",
      "Month                     object\n",
      "Day                       object\n",
      "Trip_Time                 float64\n",
      "PU_Dist_CC                float64\n",
      "DO_Dist_CC                float64\n",
      "dtypes: float64(13), int64(3), object(4)\n",
      "memory usage: 2.5+ GB\n"
     ]
    }
   ],
   "source": [
    "trips.info()"
   ]
  },
  {
   "cell_type": "code",
   "execution_count": 87,
   "metadata": {},
   "outputs": [
    {
     "data": {
      "text/plain": [
       "March        3414576\n",
       "May          3130483\n",
       "April        2941499\n",
       "February     2915330\n",
       "June         2871229\n",
       "January      2802250\n",
       "November     2632653\n",
       "December     2601766\n",
       "August        944754\n",
       "July          908879\n",
       "September     887702\n",
       "Name: Month, dtype: int64"
      ]
     },
     "execution_count": 87,
     "metadata": {},
     "output_type": "execute_result"
    }
   ],
   "source": [
    "trips['Month'].value_counts()"
   ]
  },
  {
   "cell_type": "code",
   "execution_count": null,
   "metadata": {},
   "outputs": [],
   "source": []
  }
 ],
 "metadata": {
  "kernelspec": {
   "display_name": "Python 3",
   "language": "python",
   "name": "python3"
  },
  "language_info": {
   "codemirror_mode": {
    "name": "ipython",
    "version": 3
   },
   "file_extension": ".py",
   "mimetype": "text/x-python",
   "name": "python",
   "nbconvert_exporter": "python",
   "pygments_lexer": "ipython3",
   "version": "3.7.1"
  }
 },
 "nbformat": 4,
 "nbformat_minor": 2
}
